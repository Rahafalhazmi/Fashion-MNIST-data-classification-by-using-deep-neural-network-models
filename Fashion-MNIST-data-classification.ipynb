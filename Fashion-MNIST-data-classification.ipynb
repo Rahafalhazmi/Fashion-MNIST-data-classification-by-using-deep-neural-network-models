{
 "cells": [
  {
   "cell_type": "markdown",
   "id": "38699125",
   "metadata": {},
   "source": [
    "# CS677 Deep Learning – Homework 3"
   ]
  },
  {
   "cell_type": "markdown",
   "id": "e09a7250",
   "metadata": {},
   "source": [
    "#### Rahaf Alhazmi"
   ]
  },
  {
   "cell_type": "markdown",
   "id": "dacc954e",
   "metadata": {},
   "source": [
    "###  The best accuracies are 0.98 for the second model and 0.88 for the frist model, each one of them used a diffrent technique."
   ]
  },
  {
   "cell_type": "code",
   "execution_count": 1,
   "id": "621b8b09",
   "metadata": {},
   "outputs": [],
   "source": [
    "#import the required libraries\n",
    "import tensorflow as tf\n",
    "from tensorflow import keras\n",
    "import numpy as np\n",
    "import os\n",
    "import pandas as pd\n",
    "\n",
    "#to make this notebook's output stable across runs\n",
    "np.random.seed(42)\n",
    "\n",
    "# To plot pretty figures\n",
    "%matplotlib inline\n",
    "import matplotlib as mpl\n",
    "import matplotlib.pyplot as plt\n",
    "mpl.rc('axes', labelsize=14)\n",
    "mpl.rc('xtick', labelsize=12)\n",
    "mpl.rc('ytick', labelsize=12)"
   ]
  },
  {
   "cell_type": "code",
   "execution_count": 2,
   "id": "0bfcddbf",
   "metadata": {},
   "outputs": [],
   "source": [
    "#Prepare dataset\n",
    "fashion_mnist = keras.datasets.fashion_mnist\n",
    "(X_train_full, y_train_full), (X_test, y_test) = fashion_mnist.load_data()"
   ]
  },
  {
   "cell_type": "code",
   "execution_count": 3,
   "id": "f908a90a",
   "metadata": {},
   "outputs": [
    {
     "data": {
      "text/plain": [
       "(60000, 28, 28)"
      ]
     },
     "execution_count": 3,
     "metadata": {},
     "output_type": "execute_result"
    }
   ],
   "source": [
    "X_train_full.shape"
   ]
  },
  {
   "cell_type": "code",
   "execution_count": 4,
   "id": "b6c65186",
   "metadata": {},
   "outputs": [],
   "source": [
    "X_valid, X_train = X_train_full[:5000] / 255., X_train_full[5000:] / 255.\n",
    "y_valid, y_train = y_train_full[:5000], y_train_full[5000:]\n",
    "X_test = X_test / 255."
   ]
  },
  {
   "cell_type": "code",
   "execution_count": 5,
   "id": "39b99cde",
   "metadata": {},
   "outputs": [],
   "source": [
    "class_names = [\"T-shirt/top\", \"Trouser\", \"Pullover\", \"Dress\", \"Coat\",\n",
    "               \"Sandal\", \"Shirt\", \"Sneaker\", \"Bag\", \"Ankle boot\"]"
   ]
  },
  {
   "cell_type": "markdown",
   "id": "d649f037",
   "metadata": {},
   "source": [
    "### The first model"
   ]
  },
  {
   "cell_type": "code",
   "execution_count": 61,
   "id": "0c92510d",
   "metadata": {},
   "outputs": [],
   "source": [
    "#create the model by using Keras Sequential API\n",
    "\n",
    "tf.random.set_seed(42)\n",
    "np.random.seed(42)\n",
    "\n",
    "model = keras.models.Sequential([  \n",
    "     keras.layers.Flatten(input_shape=[28, 28]),\n",
    "     keras.layers.BatchNormalization(),\n",
    "     #keras.layers.Dense(100, activation=\"relu\"),\n",
    "     keras.layers.Dense(150, kernel_initializer='he_normal'),\n",
    "      keras.layers.PReLU(),\n",
    "    #keras.layers.BatchNormalization(),\n",
    "    #keras.layers.Dense(50, activation=\"relu\"),\n",
    "     #keras.layers.Dense(100, kernel_initializer='he_normal'),\n",
    "      #keras.layers.PReLU(),\n",
    "     keras.layers.BatchNormalization(),\n",
    "    #keras.layers.Dense(50, activation=\"relu\"),\n",
    "     keras.layers.Dense(50, kernel_initializer='he_normal'),\n",
    "      keras.layers.PReLU(),\n",
    "     keras.layers.BatchNormalization(),\n",
    "      keras.layers.Dense(10, activation='softmax')\n",
    "])"
   ]
  },
  {
   "cell_type": "code",
   "execution_count": 62,
   "id": "8ec2aec7",
   "metadata": {},
   "outputs": [
    {
     "data": {
      "text/plain": [
       "[<keras.layers.core.flatten.Flatten at 0x17e2bc6a0>,\n",
       " <keras.layers.normalization.batch_normalization.BatchNormalization at 0x17e2bcb20>,\n",
       " <keras.layers.core.dense.Dense at 0x17e2bcfd0>,\n",
       " <keras.layers.advanced_activations.PReLU at 0x17e2bcb50>,\n",
       " <keras.layers.normalization.batch_normalization.BatchNormalization at 0x17e2ca8b0>,\n",
       " <keras.layers.core.dense.Dense at 0x17e2ea430>,\n",
       " <keras.layers.advanced_activations.PReLU at 0x17e2df760>,\n",
       " <keras.layers.normalization.batch_normalization.BatchNormalization at 0x17ea0d130>,\n",
       " <keras.layers.core.dense.Dense at 0x17ea0d2b0>]"
      ]
     },
     "execution_count": 62,
     "metadata": {},
     "output_type": "execute_result"
    }
   ],
   "source": [
    "model.layers"
   ]
  },
  {
   "cell_type": "code",
   "execution_count": 63,
   "id": "7b03ab4b",
   "metadata": {},
   "outputs": [
    {
     "name": "stdout",
     "output_type": "stream",
     "text": [
      "Model: \"sequential_7\"\n",
      "_________________________________________________________________\n",
      " Layer (type)                Output Shape              Param #   \n",
      "=================================================================\n",
      " flatten_6 (Flatten)         (None, 784)               0         \n",
      "                                                                 \n",
      " batch_normalization_24 (Bat  (None, 784)              3136      \n",
      " chNormalization)                                                \n",
      "                                                                 \n",
      " dense_24 (Dense)            (None, 150)               117750    \n",
      "                                                                 \n",
      " p_re_lu_10 (PReLU)          (None, 150)               150       \n",
      "                                                                 \n",
      " batch_normalization_25 (Bat  (None, 150)              600       \n",
      " chNormalization)                                                \n",
      "                                                                 \n",
      " dense_25 (Dense)            (None, 50)                7550      \n",
      "                                                                 \n",
      " p_re_lu_11 (PReLU)          (None, 50)                50        \n",
      "                                                                 \n",
      " batch_normalization_26 (Bat  (None, 50)               200       \n",
      " chNormalization)                                                \n",
      "                                                                 \n",
      " dense_26 (Dense)            (None, 10)                510       \n",
      "                                                                 \n",
      "=================================================================\n",
      "Total params: 129,946\n",
      "Trainable params: 127,978\n",
      "Non-trainable params: 1,968\n",
      "_________________________________________________________________\n"
     ]
    }
   ],
   "source": [
    "model.summary()"
   ]
  },
  {
   "cell_type": "code",
   "execution_count": 64,
   "id": "1d6e8b5f",
   "metadata": {},
   "outputs": [],
   "source": [
    "optimizer = keras.optimizers.SGD(learning_rate=0.01, decay=1e-4)"
   ]
  },
  {
   "cell_type": "code",
   "execution_count": 65,
   "id": "0f795165",
   "metadata": {},
   "outputs": [],
   "source": [
    "model.compile(loss=\"sparse_categorical_crossentropy\",\n",
    "              optimizer=optimizer,\n",
    "              metrics=[\"accuracy\"])"
   ]
  },
  {
   "cell_type": "code",
   "execution_count": 66,
   "id": "8b520278",
   "metadata": {},
   "outputs": [
    {
     "name": "stdout",
     "output_type": "stream",
     "text": [
      "Epoch 1/10\n",
      "   1/1719 [..............................] - ETA: 10:05 - loss: 3.2832 - accuracy: 0.0312"
     ]
    },
    {
     "name": "stderr",
     "output_type": "stream",
     "text": [
      "2022-02-11 23:49:54.184687: I tensorflow/core/grappler/optimizers/custom_graph_optimizer_registry.cc:112] Plugin optimizer for device_type GPU is enabled.\n"
     ]
    },
    {
     "name": "stdout",
     "output_type": "stream",
     "text": [
      "1719/1719 [==============================] - ETA: 0s - loss: 0.5882 - accuracy: 0.7980"
     ]
    },
    {
     "name": "stderr",
     "output_type": "stream",
     "text": [
      "2022-02-11 23:50:07.324009: I tensorflow/core/grappler/optimizers/custom_graph_optimizer_registry.cc:112] Plugin optimizer for device_type GPU is enabled.\n"
     ]
    },
    {
     "name": "stdout",
     "output_type": "stream",
     "text": [
      "1719/1719 [==============================] - 14s 8ms/step - loss: 0.5882 - accuracy: 0.7980 - val_loss: 0.4080 - val_accuracy: 0.8584\n",
      "Epoch 2/10\n",
      "1719/1719 [==============================] - 13s 8ms/step - loss: 0.4337 - accuracy: 0.8453 - val_loss: 0.3738 - val_accuracy: 0.8724\n",
      "Epoch 3/10\n",
      "1719/1719 [==============================] - 13s 7ms/step - loss: 0.3999 - accuracy: 0.8570 - val_loss: 0.3648 - val_accuracy: 0.8738\n",
      "Epoch 4/10\n",
      "1719/1719 [==============================] - 13s 7ms/step - loss: 0.3730 - accuracy: 0.8657 - val_loss: 0.3508 - val_accuracy: 0.8756\n",
      "Epoch 5/10\n",
      "1719/1719 [==============================] - 13s 7ms/step - loss: 0.3542 - accuracy: 0.8723 - val_loss: 0.3379 - val_accuracy: 0.8820\n",
      "Epoch 6/10\n",
      "1719/1719 [==============================] - 13s 7ms/step - loss: 0.3409 - accuracy: 0.8774 - val_loss: 0.3386 - val_accuracy: 0.8792\n",
      "Epoch 7/10\n",
      "1719/1719 [==============================] - 13s 7ms/step - loss: 0.3337 - accuracy: 0.8802 - val_loss: 0.3322 - val_accuracy: 0.8840\n",
      "Epoch 8/10\n",
      "1719/1719 [==============================] - 13s 8ms/step - loss: 0.3242 - accuracy: 0.8839 - val_loss: 0.3291 - val_accuracy: 0.8822\n",
      "Epoch 9/10\n",
      "1719/1719 [==============================] - 13s 7ms/step - loss: 0.3152 - accuracy: 0.8858 - val_loss: 0.3278 - val_accuracy: 0.8834\n",
      "Epoch 10/10\n",
      "1719/1719 [==============================] - 13s 8ms/step - loss: 0.3067 - accuracy: 0.8903 - val_loss: 0.3249 - val_accuracy: 0.8864\n"
     ]
    }
   ],
   "source": [
    "history = model.fit(X_train, y_train, epochs=10,\n",
    "                    validation_data=(X_valid, y_valid))"
   ]
  },
  {
   "cell_type": "code",
   "execution_count": 67,
   "id": "80c6cbb4",
   "metadata": {},
   "outputs": [
    {
     "data": {
      "image/png": "[encoded data removed]",
      "text/plain": [
       "<Figure size 576x360 with 1 Axes>"
      ]
     },
     "metadata": {
      "needs_background": "light"
     },
     "output_type": "display_data"
    }
   ],
   "source": [
    "import pandas as pd\n",
    "import matplotlib.pyplot as plt\n",
    "\n",
    "colors=[#\"blue\", \"gray\", #  loss      accuracy\n",
    "        \"red\", \"black\"] #   val_loss  val_accuracy\n",
    "                               #df[ [\"val_loss\",\"val_accuracy\"] ].plot(figsize=(8,5), color=colors)\n",
    "pd.DataFrame( history.history )[[\"val_loss\",\"val_accuracy\"]].plot(figsize=(8,5), color=colors)\n",
    "\n",
    "# the validation error is computed at the end of each epoch, while the training error is\n",
    "# computed using a running mean during each epoch. So the training curve should be shifted by\n",
    "# half an epoch to the left.\n",
    "#shift(-0.5)\n",
    "         #1D array                #list\n",
    "plt.plot(np.arange(-0.5,9,1), history.history[\"loss\"], c=\"blue\", label=\"loss\")    #must be put after previous code for plotting Dataframe\n",
    "plt.plot(np.arange(-0.5,9,1), history.history[\"accuracy\"], c=\"gray\", label=\"accuracy\")#must be put after previous code for plotting Dataframe\n",
    "plt.legend()\n",
    "plt.grid(True)\n",
    "plt.gca().set_ylim(0,1) # set the vertical range to [0-1]\n",
    "plt.show()"
   ]
  },
  {
   "cell_type": "code",
   "execution_count": 68,
   "id": "8c460887",
   "metadata": {},
   "outputs": [
    {
     "name": "stdout",
     "output_type": "stream",
     "text": [
      "WARNING:tensorflow:6 out of the last 6 calls to <function Model.make_predict_function.<locals>.predict_function at 0x1692df820> triggered tf.function retracing. Tracing is expensive and the excessive number of tracings could be due to (1) creating @tf.function repeatedly in a loop, (2) passing tensors with different shapes, (3) passing Python objects instead of tensors. For (1), please define your @tf.function outside of the loop. For (2), @tf.function has experimental_relax_shapes=True option that relaxes argument shapes that can avoid unnecessary retracing. For (3), please refer to https://www.tensorflow.org/guide/function#controlling_retracing and https://www.tensorflow.org/api_docs/python/tf/function for  more details.\n"
     ]
    },
    {
     "name": "stderr",
     "output_type": "stream",
     "text": [
      "2022-02-11 23:52:07.349081: I tensorflow/core/grappler/optimizers/custom_graph_optimizer_registry.cc:112] Plugin optimizer for device_type GPU is enabled.\n"
     ]
    },
    {
     "data": {
      "text/plain": [
       "array([9, 2, 1])"
      ]
     },
     "execution_count": 68,
     "metadata": {},
     "output_type": "execute_result"
    }
   ],
   "source": [
    "X_new = X_test[:3]\n",
    "\n",
    "y_pred = np.argmax(model.predict(X_new), axis=-1)\n",
    "y_pred"
   ]
  },
  {
   "cell_type": "code",
   "execution_count": 69,
   "id": "7ffb84f4",
   "metadata": {},
   "outputs": [
    {
     "name": "stdout",
     "output_type": "stream",
     "text": [
      "313/313 [==============================] - 1s 4ms/step - loss: 0.3455 - accuracy: 0.8799\n"
     ]
    },
    {
     "data": {
      "text/plain": [
       "[0.3454783260822296, 0.8799000382423401]"
      ]
     },
     "execution_count": 69,
     "metadata": {},
     "output_type": "execute_result"
    }
   ],
   "source": [
    "model.evaluate( X_test, y_test )"
   ]
  },
  {
   "cell_type": "code",
   "execution_count": 70,
   "id": "2491a69f",
   "metadata": {},
   "outputs": [
    {
     "data": {
      "text/plain": [
       "[0.8584000468254089,\n",
       " 0.8724000453948975,\n",
       " 0.8738000392913818,\n",
       " 0.8756000399589539,\n",
       " 0.8820000290870667,\n",
       " 0.8792000412940979,\n",
       " 0.8840000629425049,\n",
       " 0.8822000622749329,\n",
       " 0.883400022983551,\n",
       " 0.886400043964386]"
      ]
     },
     "execution_count": 70,
     "metadata": {},
     "output_type": "execute_result"
    }
   ],
   "source": [
    "history.history['val_accuracy']"
   ]
  },
  {
   "cell_type": "markdown",
   "id": "eac5ce1f",
   "metadata": {},
   "source": [
    "The test data accuracy for the first model is ~ 0.88. In this model, we used three different techniques and three layers, and the number of neurons is 150, 50, 10, respectively. We achieved this model after many tries with other models and techniques. "
   ]
  },
  {
   "cell_type": "markdown",
   "id": "bc7ea58f",
   "metadata": {},
   "source": [
    "### The Second model"
   ]
  },
  {
   "cell_type": "code",
   "execution_count": 103,
   "id": "2d5e887c",
   "metadata": {},
   "outputs": [],
   "source": [
    "#splitting the dataset\n",
    "\n",
    "def split_dataset(X, y):\n",
    "    y_7_or_8 = (y == 7) | (y == 8) \n",
    "    y_A = y[~y_7_or_8]\n",
    "    y_A[y_A > 8] -= 2 \n",
    "    y_B = (y[y_7_or_8] == 8).astype(np.float32) \n",
    "    return ((X[~y_7_or_8], y_A),\n",
    "            (X[y_7_or_8], y_B))\n",
    "\n",
    "(X_train_A, y_train_A), (X_train_B, y_train_B) = split_dataset(X_train, y_train)\n",
    "(X_valid_A, y_valid_A), (X_valid_B, y_valid_B) = split_dataset(X_valid, y_valid)\n",
    "(X_test_A, y_test_A), (X_test_B, y_test_B) = split_dataset(X_test, y_test)\n",
    "X_train_B = X_train_B[:200]\n",
    "y_train_B = y_train_B[:200]"
   ]
  },
  {
   "cell_type": "code",
   "execution_count": 104,
   "id": "de7dde0d",
   "metadata": {},
   "outputs": [],
   "source": [
    "tf.random.set_seed(42)\n",
    "np.random.seed(42)"
   ]
  },
  {
   "cell_type": "code",
   "execution_count": 105,
   "id": "f1d64121",
   "metadata": {},
   "outputs": [],
   "source": [
    "model_A = keras.models.Sequential()\n",
    "model_A.add(keras.layers.Flatten(input_shape=[28, 28]))\n",
    "for n_hidden in (300, 100, 50, 50, 50):\n",
    "    model_A.add(keras.layers.Dense(n_hidden, activation=\"selu\"))\n",
    "model_A.add(keras.layers.Dense(8, activation=\"softmax\"))"
   ]
  },
  {
   "cell_type": "code",
   "execution_count": 106,
   "id": "f3d0b96d",
   "metadata": {},
   "outputs": [],
   "source": [
    "model_A.compile(loss=\"sparse_categorical_crossentropy\",\n",
    "                optimizer=keras.optimizers.SGD(learning_rate=1e-3),\n",
    "                metrics=[\"accuracy\"])"
   ]
  },
  {
   "cell_type": "code",
   "execution_count": 107,
   "id": "f70b0f18",
   "metadata": {},
   "outputs": [
    {
     "name": "stdout",
     "output_type": "stream",
     "text": [
      "Epoch 1/20\n",
      "   5/1376 [..............................] - ETA: 20s - loss: 2.6170 - accuracy: 0.1000 "
     ]
    },
    {
     "name": "stderr",
     "output_type": "stream",
     "text": [
      "2022-02-12 00:22:15.603120: I tensorflow/core/grappler/optimizers/custom_graph_optimizer_registry.cc:112] Plugin optimizer for device_type GPU is enabled.\n"
     ]
    },
    {
     "name": "stdout",
     "output_type": "stream",
     "text": [
      "1374/1376 [============================>.] - ETA: 0s - loss: 0.8111 - accuracy: 0.7158"
     ]
    },
    {
     "name": "stderr",
     "output_type": "stream",
     "text": [
      "2022-02-12 00:22:31.264378: I tensorflow/core/grappler/optimizers/custom_graph_optimizer_registry.cc:112] Plugin optimizer for device_type GPU is enabled.\n"
     ]
    },
    {
     "name": "stdout",
     "output_type": "stream",
     "text": [
      "1376/1376 [==============================] - 16s 12ms/step - loss: 0.8109 - accuracy: 0.7159 - val_loss: 0.6132 - val_accuracy: 0.7661\n",
      "Epoch 2/20\n",
      "1376/1376 [==============================] - 16s 12ms/step - loss: 0.5364 - accuracy: 0.8051 - val_loss: 0.4994 - val_accuracy: 0.8187\n",
      "Epoch 3/20\n",
      "1376/1376 [==============================] - 16s 12ms/step - loss: 0.4838 - accuracy: 0.8221 - val_loss: 0.4638 - val_accuracy: 0.8327\n",
      "Epoch 4/20\n",
      "1376/1376 [==============================] - 16s 11ms/step - loss: 0.4582 - accuracy: 0.8303 - val_loss: 0.4491 - val_accuracy: 0.8344\n",
      "Epoch 5/20\n",
      "1376/1376 [==============================] - 16s 12ms/step - loss: 0.4404 - accuracy: 0.8358 - val_loss: 0.4349 - val_accuracy: 0.8412\n",
      "Epoch 6/20\n",
      "1376/1376 [==============================] - 16s 12ms/step - loss: 0.4287 - accuracy: 0.8411 - val_loss: 0.4665 - val_accuracy: 0.8194\n",
      "Epoch 7/20\n",
      "1376/1376 [==============================] - 16s 12ms/step - loss: 0.4188 - accuracy: 0.8442 - val_loss: 0.4171 - val_accuracy: 0.8444\n",
      "Epoch 8/20\n",
      "1376/1376 [==============================] - 16s 12ms/step - loss: 0.4097 - accuracy: 0.8471 - val_loss: 0.4139 - val_accuracy: 0.8449\n",
      "Epoch 9/20\n",
      "1376/1376 [==============================] - 16s 12ms/step - loss: 0.4023 - accuracy: 0.8500 - val_loss: 0.4077 - val_accuracy: 0.8487\n",
      "Epoch 10/20\n",
      "1376/1376 [==============================] - 16s 12ms/step - loss: 0.3966 - accuracy: 0.8531 - val_loss: 0.4074 - val_accuracy: 0.8522\n",
      "Epoch 11/20\n",
      "1376/1376 [==============================] - 16s 12ms/step - loss: 0.3905 - accuracy: 0.8559 - val_loss: 0.4016 - val_accuracy: 0.8509\n",
      "Epoch 12/20\n",
      "1376/1376 [==============================] - 16s 12ms/step - loss: 0.3855 - accuracy: 0.8565 - val_loss: 0.4050 - val_accuracy: 0.8524\n",
      "Epoch 13/20\n",
      "1376/1376 [==============================] - 16s 12ms/step - loss: 0.3807 - accuracy: 0.8588 - val_loss: 0.3872 - val_accuracy: 0.8572\n",
      "Epoch 14/20\n",
      "1376/1376 [==============================] - 16s 12ms/step - loss: 0.3760 - accuracy: 0.8613 - val_loss: 0.3878 - val_accuracy: 0.8584\n",
      "Epoch 15/20\n",
      "1376/1376 [==============================] - 16s 12ms/step - loss: 0.3721 - accuracy: 0.8632 - val_loss: 0.3844 - val_accuracy: 0.8589\n",
      "Epoch 16/20\n",
      "1376/1376 [==============================] - 16s 12ms/step - loss: 0.3684 - accuracy: 0.8639 - val_loss: 0.3887 - val_accuracy: 0.8619\n",
      "Epoch 17/20\n",
      "1376/1376 [==============================] - 16s 12ms/step - loss: 0.3640 - accuracy: 0.8650 - val_loss: 0.3819 - val_accuracy: 0.8617\n",
      "Epoch 18/20\n",
      "1376/1376 [==============================] - 29s 21ms/step - loss: 0.3601 - accuracy: 0.8670 - val_loss: 0.4012 - val_accuracy: 0.8527\n",
      "Epoch 19/20\n",
      "1376/1376 [==============================] - 16s 12ms/step - loss: 0.3575 - accuracy: 0.8685 - val_loss: 0.3763 - val_accuracy: 0.8619\n",
      "Epoch 20/20\n",
      "1376/1376 [==============================] - 16s 12ms/step - loss: 0.3543 - accuracy: 0.8692 - val_loss: 0.3710 - val_accuracy: 0.8629\n"
     ]
    }
   ],
   "source": [
    "history = model_A.fit(X_train_A, y_train_A, epochs=20,\n",
    "                    validation_data=(X_valid_A, y_valid_A))"
   ]
  },
  {
   "cell_type": "code",
   "execution_count": 108,
   "id": "e741f6c0",
   "metadata": {},
   "outputs": [],
   "source": [
    "model_A.save(\"my_model_A.h5\")"
   ]
  },
  {
   "cell_type": "code",
   "execution_count": 109,
   "id": "989ad18d",
   "metadata": {},
   "outputs": [],
   "source": [
    "model_B = keras.models.Sequential()\n",
    "model_B.add(keras.layers.Flatten(input_shape=[28, 28]))\n",
    "for n_hidden in (300, 100, 50, 50, 50):\n",
    "    model_B.add(keras.layers.Dense(n_hidden, activation=\"selu\"))\n",
    "model_B.add(keras.layers.Dense(1, activation=\"sigmoid\"))"
   ]
  },
  {
   "cell_type": "code",
   "execution_count": 110,
   "id": "5eac1a1e",
   "metadata": {},
   "outputs": [],
   "source": [
    "model_B.compile(loss=\"binary_crossentropy\",\n",
    "                optimizer=keras.optimizers.SGD(learning_rate=1e-3),\n",
    "                metrics=[\"accuracy\"])"
   ]
  },
  {
   "cell_type": "code",
   "execution_count": 111,
   "id": "1290f454",
   "metadata": {},
   "outputs": [
    {
     "name": "stdout",
     "output_type": "stream",
     "text": [
      "Epoch 1/20\n",
      "5/7 [====================>.........] - ETA: 0s - loss: 0.7628 - accuracy: 0.4688"
     ]
    },
    {
     "name": "stderr",
     "output_type": "stream",
     "text": [
      "2022-02-12 00:27:51.860432: I tensorflow/core/grappler/optimizers/custom_graph_optimizer_registry.cc:112] Plugin optimizer for device_type GPU is enabled.\n"
     ]
    },
    {
     "name": "stdout",
     "output_type": "stream",
     "text": [
      "7/7 [==============================] - ETA: 0s - loss: 0.7458 - accuracy: 0.4900"
     ]
    },
    {
     "name": "stderr",
     "output_type": "stream",
     "text": [
      "2022-02-12 00:27:52.129897: I tensorflow/core/grappler/optimizers/custom_graph_optimizer_registry.cc:112] Plugin optimizer for device_type GPU is enabled.\n"
     ]
    },
    {
     "name": "stdout",
     "output_type": "stream",
     "text": [
      "7/7 [==============================] - 1s 67ms/step - loss: 0.7458 - accuracy: 0.4900 - val_loss: 0.5656 - val_accuracy: 0.7435\n",
      "Epoch 2/20\n",
      "7/7 [==============================] - 0s 45ms/step - loss: 0.5366 - accuracy: 0.7500 - val_loss: 0.4401 - val_accuracy: 0.8513\n",
      "Epoch 3/20\n",
      "7/7 [==============================] - 0s 44ms/step - loss: 0.4235 - accuracy: 0.8550 - val_loss: 0.3543 - val_accuracy: 0.9102\n",
      "Epoch 4/20\n",
      "7/7 [==============================] - 0s 44ms/step - loss: 0.3466 - accuracy: 0.9050 - val_loss: 0.3011 - val_accuracy: 0.9361\n",
      "Epoch 5/20\n",
      "7/7 [==============================] - 0s 44ms/step - loss: 0.2955 - accuracy: 0.9500 - val_loss: 0.2624 - val_accuracy: 0.9491\n",
      "Epoch 6/20\n",
      "7/7 [==============================] - 0s 43ms/step - loss: 0.2566 - accuracy: 0.9650 - val_loss: 0.2333 - val_accuracy: 0.9571\n",
      "Epoch 7/20\n",
      "7/7 [==============================] - 0s 44ms/step - loss: 0.2273 - accuracy: 0.9800 - val_loss: 0.2114 - val_accuracy: 0.9581\n",
      "Epoch 8/20\n",
      "7/7 [==============================] - 0s 43ms/step - loss: 0.2054 - accuracy: 0.9750 - val_loss: 0.1944 - val_accuracy: 0.9671\n",
      "Epoch 9/20\n",
      "7/7 [==============================] - 0s 43ms/step - loss: 0.1874 - accuracy: 0.9850 - val_loss: 0.1794 - val_accuracy: 0.9671\n",
      "Epoch 10/20\n",
      "7/7 [==============================] - 0s 44ms/step - loss: 0.1726 - accuracy: 0.9850 - val_loss: 0.1673 - val_accuracy: 0.9701\n",
      "Epoch 11/20\n",
      "7/7 [==============================] - 0s 43ms/step - loss: 0.1593 - accuracy: 0.9850 - val_loss: 0.1571 - val_accuracy: 0.9701\n",
      "Epoch 12/20\n",
      "7/7 [==============================] - 0s 43ms/step - loss: 0.1486 - accuracy: 0.9850 - val_loss: 0.1481 - val_accuracy: 0.9721\n",
      "Epoch 13/20\n",
      "7/7 [==============================] - 0s 45ms/step - loss: 0.1391 - accuracy: 0.9850 - val_loss: 0.1407 - val_accuracy: 0.9741\n",
      "Epoch 14/20\n",
      "7/7 [==============================] - 0s 46ms/step - loss: 0.1312 - accuracy: 0.9850 - val_loss: 0.1343 - val_accuracy: 0.9750\n",
      "Epoch 15/20\n",
      "7/7 [==============================] - 0s 46ms/step - loss: 0.1247 - accuracy: 0.9850 - val_loss: 0.1288 - val_accuracy: 0.9750\n",
      "Epoch 16/20\n",
      "7/7 [==============================] - 0s 44ms/step - loss: 0.1179 - accuracy: 0.9850 - val_loss: 0.1236 - val_accuracy: 0.9760\n",
      "Epoch 17/20\n",
      "7/7 [==============================] - 0s 46ms/step - loss: 0.1126 - accuracy: 0.9850 - val_loss: 0.1190 - val_accuracy: 0.9770\n",
      "Epoch 18/20\n",
      "7/7 [==============================] - 0s 46ms/step - loss: 0.1073 - accuracy: 0.9850 - val_loss: 0.1146 - val_accuracy: 0.9770\n",
      "Epoch 19/20\n",
      "7/7 [==============================] - 0s 47ms/step - loss: 0.1028 - accuracy: 0.9850 - val_loss: 0.1107 - val_accuracy: 0.9770\n",
      "Epoch 20/20\n",
      "7/7 [==============================] - 0s 48ms/step - loss: 0.0989 - accuracy: 0.9850 - val_loss: 0.1073 - val_accuracy: 0.9770\n"
     ]
    }
   ],
   "source": [
    "history = model_B.fit(X_train_B, y_train_B, epochs=20,\n",
    "                      validation_data=(X_valid_B, y_valid_B))"
   ]
  },
  {
   "cell_type": "code",
   "execution_count": 112,
   "id": "8d0d3a8e",
   "metadata": {},
   "outputs": [
    {
     "name": "stdout",
     "output_type": "stream",
     "text": [
      "Model: \"sequential_15\"\n",
      "_________________________________________________________________\n",
      " Layer (type)                Output Shape              Param #   \n",
      "=================================================================\n",
      " flatten_12 (Flatten)        (None, 784)               0         \n",
      "                                                                 \n",
      " dense_59 (Dense)            (None, 300)               235500    \n",
      "                                                                 \n",
      " dense_60 (Dense)            (None, 100)               30100     \n",
      "                                                                 \n",
      " dense_61 (Dense)            (None, 50)                5050      \n",
      "                                                                 \n",
      " dense_62 (Dense)            (None, 50)                2550      \n",
      "                                                                 \n",
      " dense_63 (Dense)            (None, 50)                2550      \n",
      "                                                                 \n",
      " dense_64 (Dense)            (None, 1)                 51        \n",
      "                                                                 \n",
      "=================================================================\n",
      "Total params: 275,801\n",
      "Trainable params: 275,801\n",
      "Non-trainable params: 0\n",
      "_________________________________________________________________\n"
     ]
    }
   ],
   "source": [
    "model_B.summary()"
   ]
  },
  {
   "cell_type": "code",
   "execution_count": 113,
   "id": "da054ef4",
   "metadata": {},
   "outputs": [],
   "source": [
    "model_A = keras.models.load_model(\"my_model_A.h5\")\n",
    "model_B_on_A = keras.models.Sequential(model_A.layers[:-1])\n",
    "model_B_on_A.add(keras.layers.Dense(1, activation=\"sigmoid\"))"
   ]
  },
  {
   "cell_type": "code",
   "execution_count": 114,
   "id": "7aa85ff7",
   "metadata": {},
   "outputs": [],
   "source": [
    "model_A_clone = keras.models.clone_model(model_A)\n",
    "model_A_clone.set_weights(model_A.get_weights())"
   ]
  },
  {
   "cell_type": "code",
   "execution_count": 115,
   "id": "c9ca8f9f",
   "metadata": {},
   "outputs": [],
   "source": [
    "for layer in model_B_on_A.layers[:-1]:\n",
    "    layer.trainable = False\n",
    "\n",
    "model_B_on_A.compile(loss=\"binary_crossentropy\",\n",
    "                     optimizer=keras.optimizers.SGD(learning_rate=1e-3),\n",
    "                     metrics=[\"accuracy\"])"
   ]
  },
  {
   "cell_type": "code",
   "execution_count": 116,
   "id": "42fbb1e5",
   "metadata": {},
   "outputs": [
    {
     "name": "stdout",
     "output_type": "stream",
     "text": [
      "Epoch 1/4\n",
      "7/7 [==============================] - ETA: 0s - loss: 0.6454 - accuracy: 0.6200"
     ]
    },
    {
     "name": "stderr",
     "output_type": "stream",
     "text": [
      "2022-02-12 00:27:57.969888: I tensorflow/core/grappler/optimizers/custom_graph_optimizer_registry.cc:112] Plugin optimizer for device_type GPU is enabled.\n",
      "2022-02-12 00:27:58.185767: I tensorflow/core/grappler/optimizers/custom_graph_optimizer_registry.cc:112] Plugin optimizer for device_type GPU is enabled.\n"
     ]
    },
    {
     "name": "stdout",
     "output_type": "stream",
     "text": [
      "7/7 [==============================] - 1s 65ms/step - loss: 0.6454 - accuracy: 0.6200 - val_loss: 0.6492 - val_accuracy: 0.6038\n",
      "Epoch 2/4\n",
      "7/7 [==============================] - 0s 43ms/step - loss: 0.6219 - accuracy: 0.6400 - val_loss: 0.6270 - val_accuracy: 0.6158\n",
      "Epoch 3/4\n",
      "7/7 [==============================] - 0s 42ms/step - loss: 0.6005 - accuracy: 0.6450 - val_loss: 0.6055 - val_accuracy: 0.6317\n",
      "Epoch 4/4\n",
      "7/7 [==============================] - 0s 44ms/step - loss: 0.5797 - accuracy: 0.6750 - val_loss: 0.5833 - val_accuracy: 0.6567\n",
      "Epoch 1/16\n",
      "5/7 [====================>.........] - ETA: 0s - loss: 0.4744 - accuracy: 0.8125"
     ]
    },
    {
     "name": "stderr",
     "output_type": "stream",
     "text": [
      "2022-02-12 00:27:59.378766: I tensorflow/core/grappler/optimizers/custom_graph_optimizer_registry.cc:112] Plugin optimizer for device_type GPU is enabled.\n"
     ]
    },
    {
     "name": "stdout",
     "output_type": "stream",
     "text": [
      "7/7 [==============================] - ETA: 0s - loss: 0.4730 - accuracy: 0.8150"
     ]
    },
    {
     "name": "stderr",
     "output_type": "stream",
     "text": [
      "2022-02-12 00:27:59.667183: I tensorflow/core/grappler/optimizers/custom_graph_optimizer_registry.cc:112] Plugin optimizer for device_type GPU is enabled.\n"
     ]
    },
    {
     "name": "stdout",
     "output_type": "stream",
     "text": [
      "7/7 [==============================] - 1s 70ms/step - loss: 0.4730 - accuracy: 0.8150 - val_loss: 0.3810 - val_accuracy: 0.9012\n",
      "Epoch 2/16\n",
      "7/7 [==============================] - 0s 45ms/step - loss: 0.3358 - accuracy: 0.9300 - val_loss: 0.3029 - val_accuracy: 0.9481\n",
      "Epoch 3/16\n",
      "7/7 [==============================] - 0s 47ms/step - loss: 0.2719 - accuracy: 0.9700 - val_loss: 0.2528 - val_accuracy: 0.9611\n",
      "Epoch 4/16\n",
      "7/7 [==============================] - 0s 49ms/step - loss: 0.2300 - accuracy: 0.9800 - val_loss: 0.2208 - val_accuracy: 0.9671\n",
      "Epoch 5/16\n",
      "7/7 [==============================] - 0s 46ms/step - loss: 0.2016 - accuracy: 0.9800 - val_loss: 0.1965 - val_accuracy: 0.9721\n",
      "Epoch 6/16\n",
      "7/7 [==============================] - 0s 44ms/step - loss: 0.1799 - accuracy: 0.9900 - val_loss: 0.1781 - val_accuracy: 0.9770\n",
      "Epoch 7/16\n",
      "7/7 [==============================] - 0s 46ms/step - loss: 0.1633 - accuracy: 0.9900 - val_loss: 0.1622 - val_accuracy: 0.9790\n",
      "Epoch 8/16\n",
      "7/7 [==============================] - 0s 44ms/step - loss: 0.1492 - accuracy: 0.9900 - val_loss: 0.1504 - val_accuracy: 0.9780\n",
      "Epoch 9/16\n",
      "7/7 [==============================] - 0s 43ms/step - loss: 0.1384 - accuracy: 0.9900 - val_loss: 0.1397 - val_accuracy: 0.9810\n",
      "Epoch 10/16\n",
      "7/7 [==============================] - 0s 48ms/step - loss: 0.1287 - accuracy: 0.9900 - val_loss: 0.1314 - val_accuracy: 0.9820\n",
      "Epoch 11/16\n",
      "7/7 [==============================] - 0s 47ms/step - loss: 0.1211 - accuracy: 0.9900 - val_loss: 0.1244 - val_accuracy: 0.9820\n",
      "Epoch 12/16\n",
      "7/7 [==============================] - 0s 44ms/step - loss: 0.1149 - accuracy: 0.9900 - val_loss: 0.1185 - val_accuracy: 0.9810\n",
      "Epoch 13/16\n",
      "7/7 [==============================] - 0s 44ms/step - loss: 0.1093 - accuracy: 0.9900 - val_loss: 0.1132 - val_accuracy: 0.9830\n",
      "Epoch 14/16\n",
      "7/7 [==============================] - 0s 44ms/step - loss: 0.1044 - accuracy: 0.9900 - val_loss: 0.1082 - val_accuracy: 0.9840\n",
      "Epoch 15/16\n",
      "7/7 [==============================] - 0s 45ms/step - loss: 0.1000 - accuracy: 0.9900 - val_loss: 0.1040 - val_accuracy: 0.9840\n",
      "Epoch 16/16\n",
      "7/7 [==============================] - 0s 47ms/step - loss: 0.0960 - accuracy: 0.9900 - val_loss: 0.1003 - val_accuracy: 0.9850\n"
     ]
    }
   ],
   "source": [
    "history = model_B_on_A.fit(X_train_B, y_train_B, epochs=4,\n",
    "                           validation_data=(X_valid_B, y_valid_B))\n",
    "\n",
    "for layer in model_B_on_A.layers[:-1]:\n",
    "    layer.trainable = True\n",
    "\n",
    "model_B_on_A.compile(loss=\"binary_crossentropy\",\n",
    "                     optimizer=keras.optimizers.SGD(learning_rate=1e-3),\n",
    "                     metrics=[\"accuracy\"])\n",
    "history = model_B_on_A.fit(X_train_B, y_train_B, epochs=16,\n",
    "                           validation_data=(X_valid_B, y_valid_B))"
   ]
  },
  {
   "cell_type": "code",
   "execution_count": 117,
   "id": "dc64c843",
   "metadata": {},
   "outputs": [
    {
     "name": "stdout",
     "output_type": "stream",
     "text": [
      "63/63 [==============================] - 0s 7ms/step - loss: 0.1002 - accuracy: 0.9840\n"
     ]
    },
    {
     "data": {
      "text/plain": [
       "[0.10022583603858948, 0.984000027179718]"
      ]
     },
     "execution_count": 117,
     "metadata": {},
     "output_type": "execute_result"
    }
   ],
   "source": [
    "model_B.evaluate(X_test_B, y_test_B)"
   ]
  },
  {
   "cell_type": "code",
   "execution_count": 118,
   "id": "4e8ca4fb",
   "metadata": {},
   "outputs": [
    {
     "name": "stdout",
     "output_type": "stream",
     "text": [
      "63/63 [==============================] - 0s 6ms/step - loss: 0.0931 - accuracy: 0.9890\n"
     ]
    },
    {
     "data": {
      "text/plain": [
       "[0.09308028221130371, 0.9890000224113464]"
      ]
     },
     "execution_count": 118,
     "metadata": {},
     "output_type": "execute_result"
    }
   ],
   "source": [
    "model_B_on_A.evaluate(X_test_B, y_test_B)"
   ]
  },
  {
   "cell_type": "markdown",
   "id": "b8aedeb4",
   "metadata": {},
   "source": [
    "The test data accuracy for the second model is ~ 0.98 for model B and 0.99 for model b on A. In this model, we used Reusing Pretrained Layers technique. "
   ]
  },
  {
   "cell_type": "code",
   "execution_count": null,
   "id": "3b3c4936",
   "metadata": {},
   "outputs": [],
   "source": []
  }
 ],
 "metadata": {
  "kernelspec": {
   "display_name": "Python 3 (ipykernel)",
   "language": "python",
   "name": "python3"
  },
  "language_info": {
   "codemirror_mode": {
    "name": "ipython",
    "version": 3
   },
   "file_extension": ".py",
   "mimetype": "text/x-python",
   "name": "python",
   "nbconvert_exporter": "python",
   "pygments_lexer": "ipython3",
   "version": "3.9.7"
  }
 },
 "nbformat": 4,
 "nbformat_minor": 5
}
